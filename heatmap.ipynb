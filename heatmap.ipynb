{
 "cells": [
  {
   "cell_type": "code",
   "execution_count": null,
   "metadata": {},
   "outputs": [
    {
     "ename": "",
     "evalue": "",
     "output_type": "error",
     "traceback": [
      "\u001b[1;31mThe Kernel crashed while executing code in the the current cell or a previous cell. Please review the code in the cell(s) to identify a possible cause of the failure. Click <a href='https://aka.ms/vscodeJupyterKernelCrash'>here</a> for more info. View Jupyter <a href='command:jupyter.viewOutput'>log</a> for further details."
     ]
    }
   ],
   "source": [
    "import numpy as np\n",
    "import cv2\n",
    "\n",
    "# Define the size of the image\n",
    "image_size = (288, 512)\n",
    "\n",
    "# Define the center coordinates of the Gaussian heatmap\n",
    "cx, cy = 256, 144\n",
    "\n",
    "# Generate a grid of coordinates\n",
    "x = np.arange(image_size[1])\n",
    "y = np.arange(image_size[0])\n",
    "xx, yy = np.meshgrid(x, y)\n",
    "\n",
    "# Calculate the distance from each point to the center\n",
    "dist = np.sqrt((xx - cx) ** 2 + (yy - cy) ** 2)\n",
    "\n",
    "# Define the standard deviation of the Gaussian distribution\n",
    "sigma = 2.5\n",
    "\n",
    "# Calculate the Gaussian heatmap\n",
    "heatmap = np.exp(-0.5 * (dist / sigma) ** 2)\n",
    "\n",
    "# Normalize the heatmap to have values between 0 and 1\n",
    "heatmap = heatmap / np.max(heatmap)\n",
    "cv2.imsave('heatmap.png', heatmap)"
   ]
  },
  {
   "cell_type": "code",
   "execution_count": 12,
   "metadata": {},
   "outputs": [
    {
     "data": {
      "text/plain": [
       "True"
      ]
     },
     "execution_count": 12,
     "metadata": {},
     "output_type": "execute_result"
    }
   ],
   "source": [
    "import numpy as np\n",
    "import cv2\n",
    "\n",
    "# Define the size of the image\n",
    "image_size = (288, 512)\n",
    "\n",
    "# Define the center coordinates of the Gaussian heatmap\n",
    "cx, cy = 256, 144\n",
    "\n",
    "# Generate a grid of coordinates\n",
    "x = np.arange(image_size[1])\n",
    "y = np.arange(image_size[0])\n",
    "xx, yy = np.meshgrid(x, y)\n",
    "\n",
    "# Calculate the distance from each point to the center\n",
    "dist = np.sqrt((xx - cx) ** 2 + (yy - cy) ** 2)\n",
    "\n",
    "# Define the standard deviation of the Gaussian distribution\n",
    "sigma = 2.5\n",
    "\n",
    "# Calculate the Gaussian heatmap\n",
    "heatmap = np.exp(-0.5 * (dist / sigma) ** 2)\n",
    "\n",
    "# Normalize the heatmap to have values between 0 and 1\n",
    "heatmap = heatmap / np.max(heatmap)\n",
    "\n",
    "# Convert the heatmap to a grayscale image\n",
    "heatmap_gray = (heatmap * 255).astype(np.uint8)\n",
    "# Save the RGB image\n",
    "cv2.imwrite('heatmap.png', heatmap_gray)\n",
    "\n",
    "x, y = np.meshgrid(np.linspace(1, image_size[1], image_size[1]), np.linspace(1, image_size[0], image_size[0]))\n",
    "heatmap = ((y - (cy + 1))**2) + ((x - (cx + 1))**2)\n",
    "heatmap2[heatmap <= sigma**2] = 1.\n",
    "heatmap2[heatmap > sigma**2] = 0.\n",
    "heatmap2_gray = (heatmap2 * 255).astype(np.uint8)\n",
    "# Save the RGB image\n",
    "cv2.imwrite('heatmap2.png', heatmap2_gray)"
   ]
  }
 ],
 "metadata": {
  "kernelspec": {
   "display_name": "videomamba",
   "language": "python",
   "name": "python3"
  },
  "language_info": {
   "codemirror_mode": {
    "name": "ipython",
    "version": 3
   },
   "file_extension": ".py",
   "mimetype": "text/x-python",
   "name": "python",
   "nbconvert_exporter": "python",
   "pygments_lexer": "ipython3",
   "version": "3.10.16"
  }
 },
 "nbformat": 4,
 "nbformat_minor": 2
}
